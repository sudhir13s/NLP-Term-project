{
 "cells": [
  {
   "cell_type": "code",
   "execution_count": 1,
   "metadata": {},
   "outputs": [],
   "source": [
    "import sys\n",
    "import nltk\n",
    "import string\n",
    "\n",
    "from sklearn.model_selection import train_test_split\n",
    "from sklearn.feature_extraction.text import CountVectorizer\n",
    "from sklearn.feature_extraction.text import TfidfTransformer\n",
    "from sklearn.feature_extraction.text import TfidfVectorizer\n",
    "from imblearn.over_sampling import RandomOverSampler\n",
    "from sklearn.naive_bayes import MultinomialNB\n",
    "from sklearn.svm import LinearSVC\n",
    "from sklearn.linear_model import LogisticRegression\n",
    "\n",
    "from sklearn.utils.multiclass import unique_labels\n",
    "from sklearn import metrics\n",
    "from sklearn.metrics import confusion_matrix\n",
    "import matplotlib.pyplot as plt\n",
    "import seaborn as sns\n",
    "\n",
    "\n",
    "#DSLCC-v1.0\n",
    "#/Users/sudhirsingh/Desktop/Final NLP Term project/dataset/DSLCC-v1.0/train.txt\n",
    "#/Users/sudhirsingh/Desktop/Final NLP Term project/dataset/DSLCC-v1.0/devel.txt\n",
    "#/Users/sudhirsingh/Desktop/Final NLP Term project/dataset/DSLCC-v1.0/test-gold.txt\n",
    "\n",
    "#/Users/sudhirsingh/Desktop/Final NLP Term project/dataset/DSLCC-v1.0/train-eng.txt\n",
    "#/Users/sudhirsingh/Desktop/Final NLP Term project/dataset/DSLCC-v1.0/devel-eng.txt\n",
    "#/Users/sudhirsingh/Desktop/Final NLP Term project/dataset/DSLCC-v1.0/test-eng-gold.txt\n",
    "\n",
    "#DSLCC-v2.0\n",
    "#/Users/sudhirsingh/Desktop/Final NLP Term project/dataset/DSLCC-v2.0/train.txt\n",
    "#/Users/sudhirsingh/Desktop/Final NLP Term project/dataset/DSLCC-v2.0/devel.txt\n",
    "#/Users/sudhirsingh/Desktop/Final NLP Term project/dataset/DSLCC-v2.0/test-ne-gold.txt\n",
    "#/Users/sudhirsingh/Desktop/Final NLP Term project/dataset/DSLCC-v2.0/test-none-gold.txt\n",
    "\n",
    "#DSLCC-v4.0\n",
    "#/Users/sudhirsingh/Desktop/Final NLP Term project/dataset/DSLCC-v2.0/DSL-TRAIN.txt\n",
    "#/Users/sudhirsingh/Desktop/Final NLP Term project/dataset/DSLCC-v2.0/DSL-DEV.txt\n",
    "#/Users/sudhirsingh/Desktop/Final NLP Term project/dataset/DSLCC-v2.0/DSL-TEST-GOLD.txt"
   ]
  },
  {
   "cell_type": "markdown",
   "metadata": {},
   "source": [
    "### Read train and test file."
   ]
  },
  {
   "cell_type": "code",
   "execution_count": 2,
   "metadata": {},
   "outputs": [
    {
     "name": "stdout",
     "output_type": "stream",
     "text": [
      "Enter train file name:/Users/sudhirsingh/Desktop/Final NLP Term project/dataset/DSLCC-v1.0/train.txt\n",
      "Enter dev test file name:/Users/sudhirsingh/Desktop/Final NLP Term project/dataset/DSLCC-v1.0/devel.txt\n",
      "Enter test file name:/Users/sudhirsingh/Desktop/Final NLP Term project/dataset/DSLCC-v1.0/test-gold.txt\n"
     ]
    }
   ],
   "source": [
    "file_train = input(\"Enter train file name:\")\n",
    "file_dev_test = input(\"Enter dev test file name:\")\n",
    "file_test = input(\"Enter test file name:\")"
   ]
  },
  {
   "cell_type": "markdown",
   "metadata": {},
   "source": [
    "# Test on train dataset"
   ]
  },
  {
   "cell_type": "code",
   "execution_count": 3,
   "metadata": {},
   "outputs": [
    {
     "name": "stdout",
     "output_type": "stream",
     "text": [
      "78\n",
      "78\n",
      "82\n"
     ]
    }
   ],
   "source": [
    "print(len(file_train))\n",
    "print(len(file_dev_test))\n",
    "print(len(file_test))"
   ]
  },
  {
   "cell_type": "markdown",
   "metadata": {},
   "source": [
    "### Open file and preprocess"
   ]
  },
  {
   "cell_type": "code",
   "execution_count": 4,
   "metadata": {},
   "outputs": [],
   "source": [
    "def read_file_and_preprocess(file_name):\n",
    "    data = open(file_name).read()\n",
    "    texts, labels = [], []\n",
    "    for idx, line in enumerate(data.split(\"\\n\")):\n",
    "        line_contents = line.split('\\t')\n",
    "        if any(line_contents):\n",
    "            line = line_contents[0]\n",
    "            line = line.replace(\".\", \"\")\n",
    "            line = line.translate(str.maketrans('','','1234567890'))\n",
    "            line = line.translate(str.maketrans('', '', string.punctuation))\n",
    "            line = line.translate(str.maketrans('', '', '#NE#'))          \n",
    "            line = line.replace('\"', '')\n",
    "            line = line.replace('\\n', '')\n",
    "            line = line.strip()\n",
    "            texts.append(line)\n",
    "            labels.append(line_contents[1])\n",
    "    return texts, labels"
   ]
  },
  {
   "cell_type": "markdown",
   "metadata": {},
   "source": [
    "### Read split train and dev data in X, y train & dev test."
   ]
  },
  {
   "cell_type": "code",
   "execution_count": 5,
   "metadata": {},
   "outputs": [],
   "source": [
    "X_train, y_train = read_file_and_preprocess(file_train)\n",
    "X_dev_test, y_dev_test = read_file_and_preprocess(file_dev_test)\n",
    "# test_texts, test_classes = read_file_and_preprocess(file_test)"
   ]
  },
  {
   "cell_type": "code",
   "execution_count": 6,
   "metadata": {},
   "outputs": [],
   "source": [
    "def unique_class_label(y_train):\n",
    "    return list(set(y_train))"
   ]
  },
  {
   "cell_type": "code",
   "execution_count": 7,
   "metadata": {},
   "outputs": [],
   "source": [
    "train_unique_class = unique_class_label(y_train)"
   ]
  },
  {
   "cell_type": "code",
   "execution_count": 8,
   "metadata": {},
   "outputs": [
    {
     "name": "stdout",
     "output_type": "stream",
     "text": [
      "['sk', 'my', 'pt-PT', 'es-AR', 'pt-BR', 'cz', 'id', 'hr', 'es-ES', 'en-US', 'en-GB', 'sr', 'bs']\n"
     ]
    }
   ],
   "source": [
    "print(train_unique_class)"
   ]
  },
  {
   "cell_type": "code",
   "execution_count": 9,
   "metadata": {},
   "outputs": [
    {
     "name": "stdout",
     "output_type": "stream",
     "text": [
      "novembra je teretni brod s turskom zastavom sa  ilegalnih imigranata bezbjedno dovučen do grčke obale nakon što je uhvaćen na nemirnom moru u blizini jugoistočne obale Grčke\n",
      "bs\n"
     ]
    }
   ],
   "source": [
    "print(X_train[0])\n",
    "print(y_train[0])"
   ]
  },
  {
   "cell_type": "code",
   "execution_count": 10,
   "metadata": {},
   "outputs": [
    {
     "name": "stdout",
     "output_type": "stream",
     "text": [
      "godišnja Olta Boka osvojila je glavnu nagradu na  acionalnom festivalu pjesme u Albaniji održanom u Tirani tokom tri dana s početkom u petak  decembra\n",
      "bs\n"
     ]
    }
   ],
   "source": [
    "print(X_dev_test[0])\n",
    "print(y_dev_test[0])"
   ]
  },
  {
   "cell_type": "markdown",
   "metadata": {},
   "source": [
    "### Function to print each line for each language"
   ]
  },
  {
   "cell_type": "code",
   "execution_count": 11,
   "metadata": {},
   "outputs": [],
   "source": [
    "def print_line_each_language(X, y):\n",
    "    unique_lang = set()\n",
    "    for line, l_code in zip(X, y):\n",
    "        if l_code not in unique_lang:\n",
    "            unique_lang.add(l_code)\n",
    "            print(line + \"\\t\" + l_code)\n"
   ]
  },
  {
   "cell_type": "markdown",
   "metadata": {},
   "source": [
    "### print each line for each language of training set"
   ]
  },
  {
   "cell_type": "code",
   "execution_count": 12,
   "metadata": {},
   "outputs": [],
   "source": [
    "# print_line_each_language(X_train, y_train)"
   ]
  },
  {
   "cell_type": "markdown",
   "metadata": {},
   "source": [
    "### print each line for each language of dev test set"
   ]
  },
  {
   "cell_type": "code",
   "execution_count": 13,
   "metadata": {},
   "outputs": [],
   "source": [
    "# print_line_each_language(X_dev_test, y_dev_test)"
   ]
  },
  {
   "cell_type": "markdown",
   "metadata": {},
   "source": [
    "### Feature extraction and modeling"
   ]
  },
  {
   "cell_type": "code",
   "execution_count": 14,
   "metadata": {},
   "outputs": [],
   "source": [
    "def feature_extraction_and_modeling(X_train, X_test, feature=\"tf-idf\", ngram=1):\n",
    "#     feature_type = feature\n",
    "    if feature == \"tf-idf\":\n",
    "        # ngram level tf-idf \n",
    "#         min_df=0.01,max_df = 0.95,\n",
    "        word_vectorizer = CountVectorizer(analyzer='word', ngram_range=(1,ngram), max_df = 0.95, max_features=None)\n",
    "#         word_vectorizer = CountVectorizer(max_features=None)\n",
    "    \n",
    "        word_vectorizer_X_train = word_vectorizer.fit_transform(X_train)\n",
    "        tf_idf_transformer = TfidfTransformer()\n",
    "        X_train_feature_matrix = tf_idf_transformer.fit_transform(word_vectorizer_X_train)\n",
    "        \n",
    "        word_vectorizer_X_test = word_vectorizer.transform(X_test)\n",
    "        tf_idf_transformer = TfidfTransformer()\n",
    "        X_test_feature_matrix = tf_idf_transformer.fit_transform(word_vectorizer_X_test)\n",
    "        \n",
    "        \n",
    "#         count_vector = CountVectorizer()\n",
    "#         # create tf-idf vector object \n",
    "#         tf_idf_vector_ngram = TfidfVectorizer(analyzer='word', ngram_range=(1,ngram), max_df=0.95, max_features=None)\n",
    "#         # fit (create matrix) the tf-idf vector object according to data\n",
    "#         tf_idf_vector_ngram.fit(X_train)\n",
    "        \n",
    "# #         print(dict(zip(tf_idf_vector_ngram.get_feature_names(), tf_idf_vector_ngram.idf_)))\n",
    "# #         print(tf_idf_vector_ngram.get_feature_names())\n",
    "        \n",
    "#         # transform data using tf-idf vector object\n",
    "#         X_train_feature_matrix = tf_idf_vector_ngram.transform(X_train)\n",
    "#         X_test_feature_matrix = tf_idf_vector_ngram.transform(X_test)\n",
    "        return X_train_feature_matrix, X_test_feature_matrix\n",
    "    else:\n",
    "#         # create count vector object \n",
    "        count_vector = CountVectorizer(analyzer='word', ngram_range=(1,ngram), max_df=0.95, max_features=None)\n",
    "#         # fit (create matrix) the count vector object according to data\n",
    "        count_vector.fit(X_train)\n",
    "#         print(count_vector.get_feature_names())\n",
    "#         print(\"Vocabulary content:\\n {}\".format(count_vector.vocabulary_))\n",
    "\n",
    "#         # transform data using count vector object\n",
    "        X_train_feature_matrix = count_vector.transform(X_train)\n",
    "        X_test_feature_matrix = count_vector.transform(X_test)\n",
    "        return X_train_feature_matrix, X_test_feature_matrix"
   ]
  },
  {
   "cell_type": "code",
   "execution_count": null,
   "metadata": {},
   "outputs": [],
   "source": []
  },
  {
   "cell_type": "code",
   "execution_count": 15,
   "metadata": {},
   "outputs": [],
   "source": [
    "X_train_tf_idf_ngram, X_dev_test_tf_idf_ngram = feature_extraction_and_modeling(X_train, X_dev_test, feature=\"tf-idf\", ngram=2)\n"
   ]
  },
  {
   "cell_type": "code",
   "execution_count": 16,
   "metadata": {},
   "outputs": [
    {
     "data": {
      "text/plain": [
       "<1x4710033 sparse matrix of type '<class 'numpy.float64'>'\n",
       "\twith 46 stored elements in Compressed Sparse Row format>"
      ]
     },
     "execution_count": 16,
     "metadata": {},
     "output_type": "execute_result"
    }
   ],
   "source": [
    "X_train_tf_idf_ngram[0]"
   ]
  },
  {
   "cell_type": "code",
   "execution_count": null,
   "metadata": {},
   "outputs": [],
   "source": []
  },
  {
   "cell_type": "code",
   "execution_count": 17,
   "metadata": {},
   "outputs": [
    {
     "data": {
      "text/plain": [
       "<1x4710033 sparse matrix of type '<class 'numpy.float64'>'\n",
       "\twith 27 stored elements in Compressed Sparse Row format>"
      ]
     },
     "execution_count": 17,
     "metadata": {},
     "output_type": "execute_result"
    }
   ],
   "source": [
    "X_dev_test_tf_idf_ngram[0]"
   ]
  },
  {
   "cell_type": "code",
   "execution_count": null,
   "metadata": {},
   "outputs": [],
   "source": []
  },
  {
   "cell_type": "code",
   "execution_count": null,
   "metadata": {},
   "outputs": [],
   "source": []
  },
  {
   "cell_type": "markdown",
   "metadata": {},
   "source": [
    "### Naive Bayes model"
   ]
  },
  {
   "cell_type": "code",
   "execution_count": 18,
   "metadata": {
    "scrolled": false
   },
   "outputs": [],
   "source": [
    "def train_model_naive_bayes(X, y):\n",
    "    ros = RandomOverSampler(random_state=None)\n",
    "    X_resampled, y_resampled = ros.fit_resample(X, y)\n",
    "    nb_classifier = MultinomialNB(alpha=1.0, fit_prior=True)\n",
    "    nb_classifier.fit(X_resampled, y_resampled)\n",
    "    return nb_classifier"
   ]
  },
  {
   "cell_type": "markdown",
   "metadata": {},
   "source": [
    "### Linear SVM model"
   ]
  },
  {
   "cell_type": "code",
   "execution_count": 19,
   "metadata": {},
   "outputs": [],
   "source": [
    "def train_model_LinearSVC(X, y):\n",
    "    ros = RandomOverSampler(random_state=None)\n",
    "    X_resampled, y_resampled = ros.fit_resample(X, y)\n",
    "    svm_classifier = LinearSVC(random_state=None)\n",
    "    svm_classifier.fit(X_resampled, y_resampled)\n",
    "    return svm_classifier"
   ]
  },
  {
   "cell_type": "markdown",
   "metadata": {},
   "source": [
    "### Logistic Regression model"
   ]
  },
  {
   "cell_type": "code",
   "execution_count": 20,
   "metadata": {},
   "outputs": [],
   "source": [
    "def train_model_LogisticRegression(X, y):\n",
    "    ros = RandomOverSampler(random_state=None)\n",
    "    X_resampled, y_resampled = ros.fit_resample(X, y)\n",
    "    lr_classifier = LogisticRegression(n_jobs=1, random_state=0, C=1e5, solver='lbfgs', max_iter=10000, multi_class='multinomial')\n",
    "    lr_classifier.fit(X_resampled, y_resampled)\n",
    "    return lr_classifier"
   ]
  },
  {
   "cell_type": "markdown",
   "metadata": {},
   "source": [
    "### Testing the data with model"
   ]
  },
  {
   "cell_type": "code",
   "execution_count": 21,
   "metadata": {},
   "outputs": [],
   "source": [
    "def test_data_with_model(model, X, y):\n",
    "    prediction = model.predict(X)\n",
    "    accuracy = model.score(X, y)\n",
    "    return prediction, accuracy"
   ]
  },
  {
   "cell_type": "markdown",
   "metadata": {},
   "source": [
    "### Function to print confusion matrix and classification report"
   ]
  },
  {
   "cell_type": "code",
   "execution_count": 22,
   "metadata": {},
   "outputs": [],
   "source": [
    "def matrix_and_report(y_test, y_pred, unique_class):\n",
    "    tf_idf_ngram_cm = metrics.confusion_matrix(y_test, y_pred, labels=unique_class)\n",
    "    figure, axis = plt.subplots(figsize=(10,10))\n",
    "    axis.set_title('Confusion matrix')\n",
    "    sns.heatmap(tf_idf_ngram_cm, annot=True, fmt='d', xticklabels=unique_class, yticklabels=unique_class)\n",
    "    plt.ylabel('Actual')\n",
    "    plt.xlabel('Predicted')\n",
    "    plt.show()\n",
    "    print(\"--------------------------------------------------------------------------\")\n",
    "    print(\"Confusion matrix, without normalization\")\n",
    "    print(metrics.confusion_matrix(y_test, y_pred, labels=unique_class))\n",
    "    plt.show()\n",
    "    print(\"--------------------------------------------------------------------------\")\n",
    "    print(\"Classification Report\")\n",
    "    print(metrics.classification_report(y_test, y_pred, labels=unique_class))\n",
    "    print(\"--------------------------------------------------------------------------\")"
   ]
  },
  {
   "cell_type": "code",
   "execution_count": 23,
   "metadata": {},
   "outputs": [],
   "source": [
    "nb_model = train_model_naive_bayes(X_train_tf_idf_ngram, y_train)"
   ]
  },
  {
   "cell_type": "code",
   "execution_count": 24,
   "metadata": {},
   "outputs": [
    {
     "data": {
      "text/plain": [
       "MultinomialNB(alpha=1.0, class_prior=None, fit_prior=True)"
      ]
     },
     "execution_count": 24,
     "metadata": {},
     "output_type": "execute_result"
    }
   ],
   "source": [
    "nb_model"
   ]
  },
  {
   "cell_type": "markdown",
   "metadata": {},
   "source": [
    "### Using Naive Bayes: Test and make prediction of train data"
   ]
  },
  {
   "cell_type": "code",
   "execution_count": 25,
   "metadata": {},
   "outputs": [],
   "source": [
    "nb_prediction, nb_accuracy = test_data_with_model(nb_model, X_dev_test_tf_idf_ngram, y_dev_test)"
   ]
  },
  {
   "cell_type": "code",
   "execution_count": 26,
   "metadata": {},
   "outputs": [],
   "source": [
    "# for y_test, y_test_predict in zip(y_dev_test, nb_prediction):\n",
    "#     if y_test != y_test_predict:\n",
    "#         print(y_test + \"\\t\" + y_test_predict)"
   ]
  },
  {
   "cell_type": "markdown",
   "metadata": {},
   "source": [
    "### Using Naive Bayes: Accuracy of predicted train data"
   ]
  },
  {
   "cell_type": "code",
   "execution_count": 27,
   "metadata": {},
   "outputs": [
    {
     "name": "stdout",
     "output_type": "stream",
     "text": [
      "Multinomial Naive Bayes classifier accuracy score for test set=0.8708\n"
     ]
    }
   ],
   "source": [
    "print(\"Multinomial Naive Bayes classifier accuracy score for test set=%0.4f\" % nb_accuracy)"
   ]
  },
  {
   "cell_type": "markdown",
   "metadata": {},
   "source": [
    "### Multinomial Naive Bayes - Confusion matrix and classification report of train data"
   ]
  },
  {
   "cell_type": "code",
   "execution_count": 28,
   "metadata": {},
   "outputs": [
    {
     "data": {
      "image/png": "[encoded data removed]",
      "text/plain": [
       "<Figure size 720x720 with 2 Axes>"
      ]
     },
     "metadata": {
      "needs_background": "light"
     },
     "output_type": "display_data"
    },
    {
     "name": "stdout",
     "output_type": "stream",
     "text": [
      "--------------------------------------------------------------------------\n",
      "Confusion matrix, without normalization\n",
      "[[1999    0    0    1    0    0    0    0    0    0    0    0    0]\n",
      " [   0 1990    0    0    0    0    9    0    0    0    1    0    0]\n",
      " [   0    0 1870    0  130    0    0    0    0    0    0    0    0]\n",
      " [   0    0    0 1527    1    0    0    0  472    0    0    0    0]\n",
      " [   0    0   91    0 1909    0    0    0    0    0    0    0    0]\n",
      " [   0    0    0    0    0 2000    0    0    0    0    0    0    0]\n",
      " [   0   17    1    0    0    0 1978    0    2    1    1    0    0]\n",
      " [   0    0    0    0    0    0    0 1837    0    1    0   24  138]\n",
      " [   0    0    0  103    0    0    0    0 1897    0    0    0    0]\n",
      " [   0    0    0    0    0    0    0    0    0  906 1094    0    0]\n",
      " [   0    0    0    0    0    0    0    0    0  896 1104    0    0]\n",
      " [   0    0    0    0    0    0    0   48    0    0    0 1884   68]\n",
      " [   0    0    0    0    0    0    0  102    0    0    0  159 1739]]\n",
      "--------------------------------------------------------------------------\n",
      "Classification Report\n",
      "              precision    recall  f1-score   support\n",
      "\n",
      "          sk       1.00      1.00      1.00      2000\n",
      "          my       0.99      0.99      0.99      2000\n",
      "       pt-PT       0.95      0.94      0.94      2000\n",
      "       es-AR       0.94      0.76      0.84      2000\n",
      "       pt-BR       0.94      0.95      0.95      2000\n",
      "          cz       1.00      1.00      1.00      2000\n",
      "          id       1.00      0.99      0.99      2000\n",
      "          hr       0.92      0.92      0.92      2000\n",
      "       es-ES       0.80      0.95      0.87      2000\n",
      "       en-US       0.50      0.45      0.48      2000\n",
      "       en-GB       0.50      0.55      0.53      2000\n",
      "          sr       0.91      0.94      0.93      2000\n",
      "          bs       0.89      0.87      0.88      2000\n",
      "\n",
      "   micro avg       0.87      0.87      0.87     26000\n",
      "   macro avg       0.87      0.87      0.87     26000\n",
      "weighted avg       0.87      0.87      0.87     26000\n",
      "\n",
      "--------------------------------------------------------------------------\n"
     ]
    }
   ],
   "source": [
    "matrix_and_report(y_dev_test, nb_prediction, train_unique_class)"
   ]
  },
  {
   "cell_type": "code",
   "execution_count": 29,
   "metadata": {},
   "outputs": [],
   "source": [
    "svm_model = train_model_LinearSVC(X_train_tf_idf_ngram, y_train)"
   ]
  },
  {
   "cell_type": "code",
   "execution_count": 30,
   "metadata": {},
   "outputs": [
    {
     "data": {
      "text/plain": [
       "LinearSVC(C=1.0, class_weight=None, dual=True, fit_intercept=True,\n",
       "     intercept_scaling=1, loss='squared_hinge', max_iter=1000,\n",
       "     multi_class='ovr', penalty='l2', random_state=None, tol=0.0001,\n",
       "     verbose=0)"
      ]
     },
     "execution_count": 30,
     "metadata": {},
     "output_type": "execute_result"
    }
   ],
   "source": [
    "svm_model"
   ]
  },
  {
   "cell_type": "markdown",
   "metadata": {},
   "source": [
    "### Using Linear SVM: Test and make prediction of train data"
   ]
  },
  {
   "cell_type": "code",
   "execution_count": 31,
   "metadata": {},
   "outputs": [],
   "source": [
    "svm_prediction, svm_accuracy = test_data_with_model(svm_model, X_dev_test_tf_idf_ngram, y_dev_test)"
   ]
  },
  {
   "cell_type": "markdown",
   "metadata": {},
   "source": [
    "### Using Linear SVM: Accuracy of predicted train data"
   ]
  },
  {
   "cell_type": "code",
   "execution_count": 32,
   "metadata": {},
   "outputs": [
    {
     "name": "stdout",
     "output_type": "stream",
     "text": [
      "Linear SVM classifier accuracy score for test set=0.8746\n"
     ]
    }
   ],
   "source": [
    "print(\"Linear SVM classifier accuracy score for test set=%0.4f\" % svm_accuracy)"
   ]
  },
  {
   "cell_type": "markdown",
   "metadata": {},
   "source": [
    "### Linear SVM - Confusion matrix and classification report of train data"
   ]
  },
  {
   "cell_type": "code",
   "execution_count": 33,
   "metadata": {},
   "outputs": [
    {
     "data": {
      "image/png": "[encoded data removed]",
      "text/plain": [
       "<Figure size 720x720 with 2 Axes>"
      ]
     },
     "metadata": {
      "needs_background": "light"
     },
     "output_type": "display_data"
    },
    {
     "name": "stdout",
     "output_type": "stream",
     "text": [
      "--------------------------------------------------------------------------\n",
      "Confusion matrix, without normalization\n",
      "[[2000    0    0    0    0    0    0    0    0    0    0    0    0]\n",
      " [   0 1972    0    0    0    0   26    0    0    1    1    0    0]\n",
      " [   0    0 1879    0  121    0    0    0    0    0    0    0    0]\n",
      " [   0    0    0 1735    0    0    0    0  265    0    0    0    0]\n",
      " [   0    0  109    1 1890    0    0    0    0    0    0    0    0]\n",
      " [   0    0    0    0    0 2000    0    0    0    0    0    0    0]\n",
      " [   0   18    1    0    0    0 1980    0    0    1    0    0    0]\n",
      " [   0    0    0    0    0    0    0 1842    0    1    0   21  136]\n",
      " [   0    0    0  194    0    0    0    0 1806    0    0    0    0]\n",
      " [   0    0    0    0    0    0    0    0    0  947 1053    0    0]\n",
      " [   1    0    0    0    0    0    0    0    0  938 1061    0    0]\n",
      " [   0    0    0    0    0    0    0   69    0    0    0 1846   85]\n",
      " [   0    0    0    0    0    0    0  113    0    0    0  105 1782]]\n",
      "--------------------------------------------------------------------------\n",
      "Classification Report\n",
      "              precision    recall  f1-score   support\n",
      "\n",
      "          sk       1.00      1.00      1.00      2000\n",
      "          my       0.99      0.99      0.99      2000\n",
      "       pt-PT       0.94      0.94      0.94      2000\n",
      "       es-AR       0.90      0.87      0.88      2000\n",
      "       pt-BR       0.94      0.94      0.94      2000\n",
      "          cz       1.00      1.00      1.00      2000\n",
      "          id       0.99      0.99      0.99      2000\n",
      "          hr       0.91      0.92      0.92      2000\n",
      "       es-ES       0.87      0.90      0.89      2000\n",
      "       en-US       0.50      0.47      0.49      2000\n",
      "       en-GB       0.50      0.53      0.52      2000\n",
      "          sr       0.94      0.92      0.93      2000\n",
      "          bs       0.89      0.89      0.89      2000\n",
      "\n",
      "   micro avg       0.87      0.87      0.87     26000\n",
      "   macro avg       0.87      0.87      0.87     26000\n",
      "weighted avg       0.87      0.87      0.87     26000\n",
      "\n",
      "--------------------------------------------------------------------------\n"
     ]
    }
   ],
   "source": [
    "matrix_and_report(y_dev_test, svm_prediction, train_unique_class)"
   ]
  },
  {
   "cell_type": "code",
   "execution_count": 34,
   "metadata": {},
   "outputs": [],
   "source": [
    "# lr_model = train_model_LogisticRegression(X_train_tf_idf_ngram, y_train)"
   ]
  },
  {
   "cell_type": "code",
   "execution_count": 35,
   "metadata": {},
   "outputs": [],
   "source": [
    "# lr_model"
   ]
  },
  {
   "cell_type": "markdown",
   "metadata": {},
   "source": [
    "### Using Logistic Regression: Test and make prediction of train data"
   ]
  },
  {
   "cell_type": "code",
   "execution_count": 36,
   "metadata": {},
   "outputs": [],
   "source": [
    "# lr_prediction, lr_accuracy = test_data_with_model(lr_model, X_dev_test_tf_idf_ngram, y_dev_test)"
   ]
  },
  {
   "cell_type": "markdown",
   "metadata": {},
   "source": [
    "### Using Logistic Regression: Accuracy of predicted train data"
   ]
  },
  {
   "cell_type": "code",
   "execution_count": 37,
   "metadata": {},
   "outputs": [],
   "source": [
    "# print(\"Logistic Regression classifier accuracy score for test set=%0.4f\" % lr_accuracy)"
   ]
  },
  {
   "cell_type": "markdown",
   "metadata": {},
   "source": [
    "### Logistic Regression - Confusion matrix and classification report of train data"
   ]
  },
  {
   "cell_type": "code",
   "execution_count": 38,
   "metadata": {},
   "outputs": [],
   "source": [
    "# matrix_and_report(y_dev_test, lr_prediction, train_unique_class)"
   ]
  },
  {
   "cell_type": "markdown",
   "metadata": {},
   "source": [
    "# Testing on test data"
   ]
  },
  {
   "cell_type": "markdown",
   "metadata": {},
   "source": [
    "### Read file and preprocess the file"
   ]
  },
  {
   "cell_type": "code",
   "execution_count": 39,
   "metadata": {},
   "outputs": [],
   "source": [
    "test_texts, test_classes = read_file_and_preprocess(file_test)"
   ]
  },
  {
   "cell_type": "code",
   "execution_count": 40,
   "metadata": {},
   "outputs": [
    {
     "name": "stdout",
     "output_type": "stream",
     "text": [
      "Začátkem druhé poloviny dvacátého století dominovala až apokalyptická vize o katastrofálním přelidnění světa Robert Mcamara bývalý ministr národní obrany týmu prezidenta JF Kennedyho a posléze prezident Světové banky přirovnal nebezpečí nadcházející populační exploze k neméně ničivému dopadu jaký by způsobila atomová válka Takovým neomalthusiánským pesimismem se zejména vyznačovali ekologové a biologové Opačné optimistické stanovisko se spíš ozývalo z řad ekonomů Ti důvěřovali ve schopnost lidstva se umem důvtipem imaginací přizpůsobit úspěšně reagovat na jakkoliv náročné problémy způsobené přílišným vzrůstem populace Ona tzv zelená revoluce schopnost důkladně zvětšit produkci rýže a tak odvrátit hladomor zejména v Asii je často uváděna jako přesvědčivý příklad\n",
      "cz\n"
     ]
    }
   ],
   "source": [
    "print(test_texts[0])\n",
    "print(test_classes[0])"
   ]
  },
  {
   "cell_type": "markdown",
   "metadata": {},
   "source": [
    "### Get all unique class labels (unique languages)"
   ]
  },
  {
   "cell_type": "code",
   "execution_count": 41,
   "metadata": {},
   "outputs": [],
   "source": [
    "test_unique_class = unique_class_label(test_classes)"
   ]
  },
  {
   "cell_type": "code",
   "execution_count": 42,
   "metadata": {},
   "outputs": [
    {
     "name": "stdout",
     "output_type": "stream",
     "text": [
      "['sk', 'pt-PT', 'es-AR', 'my', 'pt-BR', 'cz', 'id', 'hr', 'es-ES', 'en-US', 'en-GB', 'sr', 'bs']\n"
     ]
    }
   ],
   "source": [
    "print(test_unique_class)"
   ]
  },
  {
   "cell_type": "markdown",
   "metadata": {},
   "source": [
    "### print each line for each language of test set"
   ]
  },
  {
   "cell_type": "code",
   "execution_count": 43,
   "metadata": {},
   "outputs": [
    {
     "name": "stdout",
     "output_type": "stream",
     "text": [
      "Začátkem druhé poloviny dvacátého století dominovala až apokalyptická vize o katastrofálním přelidnění světa Robert Mcamara bývalý ministr národní obrany týmu prezidenta JF Kennedyho a posléze prezident Světové banky přirovnal nebezpečí nadcházející populační exploze k neméně ničivému dopadu jaký by způsobila atomová válka Takovým neomalthusiánským pesimismem se zejména vyznačovali ekologové a biologové Opačné optimistické stanovisko se spíš ozývalo z řad ekonomů Ti důvěřovali ve schopnost lidstva se umem důvtipem imaginací přizpůsobit úspěšně reagovat na jakkoliv náročné problémy způsobené přílišným vzrůstem populace Ona tzv zelená revoluce schopnost důkladně zvětšit produkci rýže a tak odvrátit hladomor zejména v Asii je často uváděna jako přesvědčivý příklad\tcz\n",
      "Pošto je ULX obećao da će obaviti istragu o prošlosedmičnom izbijanju nasilja na sjeveru Kosova taj incident predstavlja još jedan ispit kapaciteta misije da doprinese jačanju vladavine prava\tbs\n",
      "De todas as provações que teve de suplantar ao longo da vida qual foi a mais difícil O início Qualquer começo apresenta dificuldades que parecem intransponíveis Mas tive sempre a minha mãe do meu lado Foi ela quem me ajudou a encontrar forças para enfrentar as situações mais decepcionantes negativas as que me punham mesmo furiosa\tpt-PT\n",
      "Al parecer Andrea Guasch pone que una relación a distancia es muy difícil de llevar como excusa Algo con lo que por lo visto Alex Lequio no está nada de acuerdo ¿O es que más bien ya ha conseguido la fama que andaba buscando\tes-ES\n",
      "Vo väčšine golfových rezortov ide o veľký komplex niekoľkých ihrísk blízko pri sebe spojených s hotelmi a ďalšími možnosťami trávenia voľného času – nie vždy sú manželky či deti nadšenými golfistami a tak potrebujú iný druh vyžitia Zaujímavé kombinácie ponúkajú aj rakúske švajčiarske či talianske Alpy kde sa dá v zime lyžovať a v lete hrať golf pod vysokými alpskými končiarmi\tsk\n",
      "Bubnjar Ozgur Can Onej kaže da je vrovizija inspirisala grupu da napiše nove pesme pesme koje kako kaže jedva čekaju da podele sa svetom\tsr\n",
      "O atacante havia dito que tinha esperança de voltar a jogar na competição Mas de acordo com o médico Homero De Agostino um exame realizado na manhã de ontem mostrou que ele não tem mais chances de jogar\tpt-BR\n",
      "Para los empresarios locales contar con el servicio es fundamental para asegurar la competitividad de la economía “s tan importante como el mantenimiento de las rutas que nos unen a Santa Fe a Freyre a Rosario Rafaela es una ciudad del interior no es una capital de provincia está lejos de un río de una autopista entonces los extranjeros que vienen a la ciudad o los porteños que vienen a hacer negocios nos dicen que se tarda menos venir de Dinamarca a Buenos Aires que de Buenos Aires a Rafaela” se quejaba hace sólo una semana atrás Oscar Parra presidente del Centro Comercial e Industrial de Rafaela en declaraciones a una radio local\tes-AR\n",
      "KUALA LUMPUR Keputusan kerajaan untuk tidak menambah bilangan guru sandaran tidak terlatih GSTT adalah bagi memastikan GSTT sedia ada dapat diserap menjadi guru sandaran terlatih GST terlebih dahulu selepas latihan ikhtisas diberikan kepada mereka\tmy\n",
      "Bungsu dari tiga bersaudara buah kasih pasangan di Lamanepa dan Widiany ini mengatakan jumlah penumpang sakit yang ditanganinnya tidak banyak seperti umumnya di rumah sakit atau puskesmas amun yang dilihat bukan seberapa banyak atau sedikitnya melainkan pelayanan medis yang diberikan harus membuat pasien nyaman\tid\n",
      "Srbija i Crna Gora bila je treća po broju turista koji su posjetili Bugarsku  godine kada je skoro  njezinih građana odlučilo provesti svoj odmor u toj zemlji\thr\n",
      "AUBUR HILLS  In the first official meaningless game of the season the Pistons played as if their lives depended on it\ten-US\n",
      "arlier that day clad in a protective white suit Paul  a special enforcement officer from the nvironment Agency  had painstakingly examined the entire field and found hundreds of pieces of asbestos no bigger than a golf ball\ten-GB\n"
     ]
    }
   ],
   "source": [
    "print_line_each_language(test_texts, test_classes)"
   ]
  },
  {
   "cell_type": "markdown",
   "metadata": {},
   "source": [
    "### Feature selection and modeling\n",
    "Count - bag of words (word)\n",
    "<br>\n",
    "tf-idf - unigram, bigram (ngram)"
   ]
  },
  {
   "cell_type": "code",
   "execution_count": 44,
   "metadata": {},
   "outputs": [],
   "source": [
    "X_train_tf_idf_ngram, test_tf_idf_ngram = feature_extraction_and_modeling(X_train, test_texts, feature=\"tf-idf\", ngram=2)\n"
   ]
  },
  {
   "cell_type": "code",
   "execution_count": 45,
   "metadata": {},
   "outputs": [
    {
     "data": {
      "text/plain": [
       "<1x4710033 sparse matrix of type '<class 'numpy.float64'>'\n",
       "\twith 94 stored elements in Compressed Sparse Row format>"
      ]
     },
     "execution_count": 45,
     "metadata": {},
     "output_type": "execute_result"
    }
   ],
   "source": [
    "test_tf_idf_ngram[0]"
   ]
  },
  {
   "cell_type": "code",
   "execution_count": null,
   "metadata": {},
   "outputs": [],
   "source": []
  },
  {
   "cell_type": "markdown",
   "metadata": {},
   "source": [
    "### Using Naive Bayes: Test and make prediction of test data "
   ]
  },
  {
   "cell_type": "code",
   "execution_count": 46,
   "metadata": {},
   "outputs": [],
   "source": [
    "nb_test_prediction, nb_test_accuracy = test_data_with_model(nb_model, test_tf_idf_ngram, test_classes)"
   ]
  },
  {
   "cell_type": "markdown",
   "metadata": {},
   "source": [
    "### Using Naive Bayes:  Accuracy of predicted test data"
   ]
  },
  {
   "cell_type": "code",
   "execution_count": 47,
   "metadata": {},
   "outputs": [
    {
     "name": "stdout",
     "output_type": "stream",
     "text": [
      "Multinomial Naive Bayes classifier accuracy score for test set=  87.45238095238095\n"
     ]
    }
   ],
   "source": [
    "print(\"Multinomial Naive Bayes classifier accuracy score for test set= \", nb_test_accuracy*100)"
   ]
  },
  {
   "cell_type": "markdown",
   "metadata": {},
   "source": [
    "### Using Naive Bayes: Print Confusion matrix and classification report of test data"
   ]
  },
  {
   "cell_type": "code",
   "execution_count": 48,
   "metadata": {
    "scrolled": false
   },
   "outputs": [
    {
     "data": {
      "image/png": "[encoded data removed]",
      "text/plain": [
       "<Figure size 720x720 with 2 Axes>"
      ]
     },
     "metadata": {
      "needs_background": "light"
     },
     "output_type": "display_data"
    },
    {
     "name": "stdout",
     "output_type": "stream",
     "text": [
      "--------------------------------------------------------------------------\n",
      "Confusion matrix, without normalization\n",
      "[[1000    0    0    0    0    0    0    0    0    0    0    0    0]\n",
      " [   0  933    0    0   67    0    0    0    0    0    0    0    0]\n",
      " [   0    0  764    0    0    0    0    0  236    0    0    0    0]\n",
      " [   0    0    0  995    0    0    4    0    0    0    1    0    0]\n",
      " [   0   52    0    0  948    0    0    0    0    0    0    0    0]\n",
      " [   0    0    0    0    0  999    0    0    0    0    1    0    0]\n",
      " [   0    0    0    7    0    0  991    0    0    1    1    0    0]\n",
      " [   0    0    0    0    0    0    0  903    0    0    1   14   82]\n",
      " [   0    0   49    0    0    0    0    0  951    0    0    0    0]\n",
      " [   0    0    0    0    0    0    0    0    0  356  444    0    0]\n",
      " [   0    0    0    0    0    0    0    0    0  442  358    0    0]\n",
      " [   0    0    0    0    0    0    0   15    0    0    0  934   51]\n",
      " [   0    0    0    0    0    0    0   34    0    0    0   79  887]]\n",
      "--------------------------------------------------------------------------\n",
      "Classification Report\n",
      "              precision    recall  f1-score   support\n",
      "\n",
      "          sk       1.00      1.00      1.00      1000\n",
      "       pt-PT       0.95      0.93      0.94      1000\n",
      "       es-AR       0.94      0.76      0.84      1000\n",
      "          my       0.99      0.99      0.99      1000\n",
      "       pt-BR       0.93      0.95      0.94      1000\n",
      "          cz       1.00      1.00      1.00      1000\n",
      "          id       1.00      0.99      0.99      1000\n",
      "          hr       0.95      0.90      0.93      1000\n",
      "       es-ES       0.80      0.95      0.87      1000\n",
      "       en-US       0.45      0.45      0.45       800\n",
      "       en-GB       0.44      0.45      0.45       800\n",
      "          sr       0.91      0.93      0.92      1000\n",
      "          bs       0.87      0.89      0.88      1000\n",
      "\n",
      "   micro avg       0.87      0.87      0.87     12600\n",
      "   macro avg       0.86      0.86      0.86     12600\n",
      "weighted avg       0.88      0.87      0.87     12600\n",
      "\n",
      "--------------------------------------------------------------------------\n"
     ]
    }
   ],
   "source": [
    "matrix_and_report(test_classes, nb_test_prediction, test_unique_class)"
   ]
  },
  {
   "cell_type": "markdown",
   "metadata": {},
   "source": [
    "### Not matched sentences"
   ]
  },
  {
   "cell_type": "code",
   "execution_count": 49,
   "metadata": {
    "scrolled": false
   },
   "outputs": [],
   "source": [
    "# for sent, y_test, y_test_predict in zip(test_texts, test_classes, nb_test_prediction):\n",
    "#     if y_test==\"pt-PT\" and y_test_predict==\"es-ES\":\n",
    "#         print(sent + \"\\t\" + y_test + \"\\t\" + y_test_predict)"
   ]
  },
  {
   "cell_type": "markdown",
   "metadata": {},
   "source": [
    "### Using Linear SVM: Test and make prediction of test data "
   ]
  },
  {
   "cell_type": "code",
   "execution_count": 50,
   "metadata": {},
   "outputs": [],
   "source": [
    "svm_test_prediction, svm_test_accuracy = test_data_with_model(svm_model, test_tf_idf_ngram, test_classes)"
   ]
  },
  {
   "cell_type": "markdown",
   "metadata": {},
   "source": [
    "### Using Linear SVM:  Accuracy of predicted test data"
   ]
  },
  {
   "cell_type": "code",
   "execution_count": 51,
   "metadata": {},
   "outputs": [
    {
     "name": "stdout",
     "output_type": "stream",
     "text": [
      "Linear SVM classifier accuracy score for test set=0.8806\n"
     ]
    }
   ],
   "source": [
    "print(\"Linear SVM classifier accuracy score for test set=%0.4f\" % svm_test_accuracy)"
   ]
  },
  {
   "cell_type": "markdown",
   "metadata": {},
   "source": [
    "### Using Linear SVM:  Print Confusion matrix and classification report of test data"
   ]
  },
  {
   "cell_type": "code",
   "execution_count": 52,
   "metadata": {},
   "outputs": [
    {
     "data": {
      "image/png": "[encoded data removed]",
      "text/plain": [
       "<Figure size 720x720 with 2 Axes>"
      ]
     },
     "metadata": {
      "needs_background": "light"
     },
     "output_type": "display_data"
    },
    {
     "name": "stdout",
     "output_type": "stream",
     "text": [
      "--------------------------------------------------------------------------\n",
      "Confusion matrix, without normalization\n",
      "[[1000    0    0    0    0    0    0    0    0    0    0    0    0]\n",
      " [   0  931    0    0   69    0    0    0    0    0    0    0    0]\n",
      " [   1    0  873    0    0    0    0    0  126    0    0    0    0]\n",
      " [   0    0    0  990    0    0   10    0    0    0    0    0    0]\n",
      " [   0   65    1    0  934    0    0    0    0    0    0    0    0]\n",
      " [   0    0    0    0    0  999    0    0    0    0    1    0    0]\n",
      " [   0    0    0   11    0    0  988    0    0    0    1    0    0]\n",
      " [   0    0    0    0    0    0    0  897    0    0    0   17   86]\n",
      " [   0    1   76    0    0    0    0    0  923    0    0    0    0]\n",
      " [   0    0    0    0    0    0    0    0    0  376  424    0    0]\n",
      " [   0    0    0    0    0    0    0    0    0  426  374    0    0]\n",
      " [   0    0    0    0    0    0    0   23    0    0    0  919   58]\n",
      " [   0    0    0    0    0    0    0   44    0    0    0   65  891]]\n",
      "--------------------------------------------------------------------------\n",
      "Classification Report\n",
      "              precision    recall  f1-score   support\n",
      "\n",
      "          sk       1.00      1.00      1.00      1000\n",
      "       pt-PT       0.93      0.93      0.93      1000\n",
      "       es-AR       0.92      0.87      0.90      1000\n",
      "          my       0.99      0.99      0.99      1000\n",
      "       pt-BR       0.93      0.93      0.93      1000\n",
      "          cz       1.00      1.00      1.00      1000\n",
      "          id       0.99      0.99      0.99      1000\n",
      "          hr       0.93      0.90      0.91      1000\n",
      "       es-ES       0.88      0.92      0.90      1000\n",
      "       en-US       0.47      0.47      0.47       800\n",
      "       en-GB       0.47      0.47      0.47       800\n",
      "          sr       0.92      0.92      0.92      1000\n",
      "          bs       0.86      0.89      0.88      1000\n",
      "\n",
      "   micro avg       0.88      0.88      0.88     12600\n",
      "   macro avg       0.87      0.87      0.87     12600\n",
      "weighted avg       0.88      0.88      0.88     12600\n",
      "\n",
      "--------------------------------------------------------------------------\n"
     ]
    }
   ],
   "source": [
    "matrix_and_report(test_classes, svm_test_prediction, test_unique_class)"
   ]
  },
  {
   "cell_type": "markdown",
   "metadata": {},
   "source": [
    "### Not matched sentences"
   ]
  },
  {
   "cell_type": "code",
   "execution_count": 53,
   "metadata": {},
   "outputs": [],
   "source": [
    "# for sent, y_test, y_test_predict in zip(test_texts, test_classes, svm_test_prediction):\n",
    "#     if y_test != y_test_predict:\n",
    "#         print(sent + \"\\t\" + y_test + \"\\t\" + y_test_predict)"
   ]
  },
  {
   "cell_type": "markdown",
   "metadata": {},
   "source": [
    "### Using Logistic Regression: Test and make prediction of test data "
   ]
  },
  {
   "cell_type": "code",
   "execution_count": 54,
   "metadata": {},
   "outputs": [],
   "source": [
    "# lr_test_prediction, lr_test_accuracy = test_data_with_model(lr_model, test_tf_idf_ngram, test_classes)"
   ]
  },
  {
   "cell_type": "markdown",
   "metadata": {},
   "source": [
    "### Using Logistic Regression:  Accuracy of predicted test data"
   ]
  },
  {
   "cell_type": "code",
   "execution_count": 55,
   "metadata": {},
   "outputs": [],
   "source": [
    "# print(\"Logistic Regression classifier accuracy score for test set=%0.4f\" % lr_test_accuracy)"
   ]
  },
  {
   "cell_type": "markdown",
   "metadata": {},
   "source": [
    "### Using Logistic Regression:  Print Confusion matrix and classification report of test data"
   ]
  },
  {
   "cell_type": "code",
   "execution_count": 56,
   "metadata": {},
   "outputs": [],
   "source": [
    "# matrix_and_report(test_classes, lr_test_prediction, test_unique_class)"
   ]
  },
  {
   "cell_type": "code",
   "execution_count": null,
   "metadata": {},
   "outputs": [],
   "source": []
  }
 ],
 "metadata": {
  "kernelspec": {
   "display_name": "Python 3",
   "language": "python",
   "name": "python3"
  },
  "language_info": {
   "codemirror_mode": {
    "name": "ipython",
    "version": 3
   },
   "file_extension": ".py",
   "mimetype": "text/x-python",
   "name": "python",
   "nbconvert_exporter": "python",
   "pygments_lexer": "ipython3",
   "version": "3.7.1"
  }
 },
 "nbformat": 4,
 "nbformat_minor": 2
}
